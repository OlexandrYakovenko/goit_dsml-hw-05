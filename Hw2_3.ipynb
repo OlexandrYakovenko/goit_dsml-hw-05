{
  "nbformat": 4,
  "nbformat_minor": 0,
  "metadata": {
    "colab": {
      "provenance": []
    },
    "kernelspec": {
      "name": "python3",
      "display_name": "Python 3"
    },
    "language_info": {
      "name": "python"
    }
  },
  "cells": [
    {
      "cell_type": "markdown",
      "source": [
        "Прочитайте csv файл (використовуйте функцію read_csv)"
      ],
      "metadata": {
        "id": "uh5erDkoXrid"
      }
    },
    {
      "cell_type": "code",
      "execution_count": 1,
      "metadata": {
        "colab": {
          "base_uri": "https://localhost:8080/"
        },
        "id": "eMAsxGa7W5fp",
        "outputId": "e2bb98af-fd74-423f-e848-9efdedc5afdd"
      },
      "outputs": [
        {
          "output_type": "stream",
          "name": "stdout",
          "text": [
            "                                                Name  \\\n",
            "0                      10-Day Green Smoothie Cleanse   \n",
            "1                                  11/22/63: A Novel   \n",
            "2            12 Rules for Life: An Antidote to Chaos   \n",
            "3                             1984 (Signet Classics)   \n",
            "4  5,000 Awesome Facts (About Everything!) (Natio...   \n",
            "\n",
            "                     Author  User Rating  Reviews  Price  Year        Genre  \n",
            "0                  JJ Smith          4.7    17350      8  2016  Non Fiction  \n",
            "1              Stephen King          4.6     2052     22  2011      Fiction  \n",
            "2        Jordan B. Peterson          4.7    18979     15  2018  Non Fiction  \n",
            "3             George Orwell          4.7    21424      6  2017      Fiction  \n",
            "4  National Geographic Kids          4.8     7665     12  2019  Non Fiction  \n"
          ]
        }
      ],
      "source": [
        "import pandas as pd\n",
        "\n",
        "# Прочитати файл CSV\n",
        "df = pd.read_csv(\"/content/bestsellers with categories.csv\")\n",
        "\n",
        "# Вивести перші декілька рядків датафрейму\n",
        "print(df.head())"
      ]
    },
    {
      "cell_type": "markdown",
      "source": [
        "Виведіть перші п'ять рядків (використовується функція head)"
      ],
      "metadata": {
        "id": "9HdeWcOUX679"
      }
    },
    {
      "cell_type": "code",
      "source": [
        "print(df.head())"
      ],
      "metadata": {
        "colab": {
          "base_uri": "https://localhost:8080/"
        },
        "id": "Y_LpRxz_X-Zk",
        "outputId": "6fc64185-9905-4e05-e74a-2f3027e25384"
      },
      "execution_count": 2,
      "outputs": [
        {
          "output_type": "stream",
          "name": "stdout",
          "text": [
            "                                                Name  \\\n",
            "0                      10-Day Green Smoothie Cleanse   \n",
            "1                                  11/22/63: A Novel   \n",
            "2            12 Rules for Life: An Antidote to Chaos   \n",
            "3                             1984 (Signet Classics)   \n",
            "4  5,000 Awesome Facts (About Everything!) (Natio...   \n",
            "\n",
            "                     Author  User Rating  Reviews  Price  Year        Genre  \n",
            "0                  JJ Smith          4.7    17350      8  2016  Non Fiction  \n",
            "1              Stephen King          4.6     2052     22  2011      Fiction  \n",
            "2        Jordan B. Peterson          4.7    18979     15  2018  Non Fiction  \n",
            "3             George Orwell          4.7    21424      6  2017      Fiction  \n",
            "4  National Geographic Kids          4.8     7665     12  2019  Non Fiction  \n"
          ]
        }
      ]
    },
    {
      "cell_type": "markdown",
      "source": [
        "Виведіть розміри датасету (використовуйте атрибут shape)"
      ],
      "metadata": {
        "id": "iKLU3OgxYB_l"
      }
    },
    {
      "cell_type": "code",
      "source": [
        "print(df.shape)"
      ],
      "metadata": {
        "colab": {
          "base_uri": "https://localhost:8080/"
        },
        "id": "xkD0JDJlYEUu",
        "outputId": "5c96afbf-b079-486f-c478-d5f896b52354"
      },
      "execution_count": 3,
      "outputs": [
        {
          "output_type": "stream",
          "name": "stdout",
          "text": [
            "(550, 7)\n"
          ]
        }
      ]
    },
    {
      "cell_type": "markdown",
      "source": [
        "Відповідь: Про скільки книг зберігає дані датасет?\n",
        "Відповідь: 550"
      ],
      "metadata": {
        "id": "LbSD46zwYH72"
      }
    },
    {
      "cell_type": "code",
      "source": [
        "df.columns"
      ],
      "metadata": {
        "colab": {
          "base_uri": "https://localhost:8080/"
        },
        "id": "VTaisDefYqDC",
        "outputId": "ae8b8047-de13-40d1-e39e-fa13f755e7d4"
      },
      "execution_count": 4,
      "outputs": [
        {
          "output_type": "execute_result",
          "data": {
            "text/plain": [
              "Index(['Name', 'Author', 'User Rating', 'Reviews', 'Price', 'Year', 'Genre'], dtype='object')"
            ]
          },
          "metadata": {},
          "execution_count": 4
        }
      ]
    },
    {
      "cell_type": "markdown",
      "source": [
        "Давайте змінимо регістр на малий, а пробіл замінимо на нижнє підкреслення (snake_style). А заразом і вивчимо корисний атрибут датафрейму: columns (можна просто присвоїти список нових імен цьому атрибуту)"
      ],
      "metadata": {
        "id": "N-DstgcAYtea"
      }
    },
    {
      "cell_type": "code",
      "source": [
        "df.columns = ['name', 'author', 'user_rating', 'reviews', 'price', 'year', 'genre']\n",
        "print(df.columns)"
      ],
      "metadata": {
        "colab": {
          "base_uri": "https://localhost:8080/"
        },
        "id": "td2JAGJ0YyuT",
        "outputId": "94d81031-5ed9-4352-e164-e67bab402dcb"
      },
      "execution_count": 6,
      "outputs": [
        {
          "output_type": "stream",
          "name": "stdout",
          "text": [
            "Index(['name', 'author', 'user_rating', 'reviews', 'price', 'year', 'genre'], dtype='object')\n"
          ]
        }
      ]
    },
    {
      "cell_type": "markdown",
      "source": [
        "Перевірте, чи у всіх рядків вистачає даних: виведіть кількість пропусків (na) у кожному зі стовпців (використовуйте функції isna та sum)"
      ],
      "metadata": {
        "id": "M3HoZFtRY7LU"
      }
    },
    {
      "cell_type": "code",
      "source": [
        "# Порахунок частки пропусків у кожному стовпці\n",
        "missing_sum = df.isnull().sum()\n",
        "\n",
        "print(\"Кількість пропусків у кожній колонці:\")\n",
        "print(missing_sum)"
      ],
      "metadata": {
        "colab": {
          "base_uri": "https://localhost:8080/"
        },
        "id": "saCrkytLY_Ms",
        "outputId": "b38a0a4b-2ab6-4a09-e870-3c98e2988bea"
      },
      "execution_count": 7,
      "outputs": [
        {
          "output_type": "stream",
          "name": "stdout",
          "text": [
            "Кількість пропусків у кожній колонці:\n",
            "name           0\n",
            "author         0\n",
            "user_rating    0\n",
            "reviews        0\n",
            "price          0\n",
            "year           0\n",
            "genre          0\n",
            "dtype: int64\n"
          ]
        }
      ]
    },
    {
      "cell_type": "markdown",
      "source": [
        "Відповідь: Чи є в якихось змінних пропуски? (Так / ні)\n",
        "Відповідь: Ні."
      ],
      "metadata": {
        "id": "LTma1psbfCnl"
      }
    },
    {
      "cell_type": "markdown",
      "source": [
        "Перевірте, які є унікальні значення в колонці genre (використовуйте функцію unique)"
      ],
      "metadata": {
        "id": "FQJiyvGPfJHF"
      }
    },
    {
      "cell_type": "code",
      "source": [
        "# Виведення унікальних значень в колонці 'genre'\n",
        "unique_genres = df['genre'].unique()\n",
        "\n",
        "# Виведення результату\n",
        "print(unique_genres)"
      ],
      "metadata": {
        "colab": {
          "base_uri": "https://localhost:8080/"
        },
        "id": "swk-oGNlfM7d",
        "outputId": "9330dd23-50e0-40af-e8e5-fdef9e2c7fe6"
      },
      "execution_count": 8,
      "outputs": [
        {
          "output_type": "stream",
          "name": "stdout",
          "text": [
            "['Non Fiction' 'Fiction']\n"
          ]
        }
      ]
    },
    {
      "cell_type": "markdown",
      "source": [
        "Відповідь: Які є унікальні жанри?\n",
        "Відповідь: 'Non Fiction' 'Fiction'"
      ],
      "metadata": {
        "id": "UuPqts7YfhoI"
      }
    },
    {
      "cell_type": "markdown",
      "source": [
        "Тепер подивіться на розподіл цін: побудуйте діаграму (використовуйте kind='hist')"
      ],
      "metadata": {
        "id": "e1b-PpzGfmfv"
      }
    },
    {
      "cell_type": "code",
      "source": [
        "import matplotlib.pyplot as plt\n",
        "\n",
        "# Побудова гістограми розподілу цін\n",
        "df['price'].plot(kind='hist', bins=10, color='skyblue', edgecolor='black')\n",
        "\n",
        "# Додавання заголовка і підписів до графіку\n",
        "plt.title('Розподіл цін')\n",
        "plt.xlabel('Ціна')\n",
        "plt.ylabel('Частота')\n",
        "\n",
        "# Показати графік\n",
        "plt.show()"
      ],
      "metadata": {
        "colab": {
          "base_uri": "https://localhost:8080/",
          "height": 472
        },
        "id": "wlSCCchHfrF5",
        "outputId": "c84f4b69-fdb4-479b-fd04-c8cff9eec3d9"
      },
      "execution_count": 9,
      "outputs": [
        {
          "output_type": "display_data",
          "data": {
            "text/plain": [
              "<Figure size 640x480 with 1 Axes>"
            ],
            "image/png": "[encoded data removed]"
          },
          "metadata": {}
        }
      ]
    },
    {
      "cell_type": "markdown",
      "source": [
        "Визначте, яка ціна у нас максимальна, мінімальна, середня, медіанна (використовуйте функції max, min, mean, median)"
      ],
      "metadata": {
        "id": "BzErZ2BHgjnH"
      }
    },
    {
      "cell_type": "code",
      "source": [
        "# Максимальна ціна\n",
        "max_price = df['price'].max()\n",
        "\n",
        "# Мінімальна ціна\n",
        "min_price = df['price'].min()\n",
        "\n",
        "# Середня ціна\n",
        "mean_price = df['price'].mean()\n",
        "\n",
        "# Медіанна ціна\n",
        "median_price = df['price'].median()\n",
        "\n",
        "# Виведення результатів\n",
        "print(\"Максимальна ціна:\", max_price)\n",
        "print(\"Мінімальна ціна:\", min_price)\n",
        "print(\"Середня ціна:\", mean_price)\n",
        "print(\"Медіанна ціна:\", median_price)"
      ],
      "metadata": {
        "colab": {
          "base_uri": "https://localhost:8080/"
        },
        "id": "-VPS4sZ_g0In",
        "outputId": "7b3add6f-2d12-4f69-c87e-e47063372afa"
      },
      "execution_count": 10,
      "outputs": [
        {
          "output_type": "stream",
          "name": "stdout",
          "text": [
            "Максимальна ціна: 105\n",
            "Мінімальна ціна: 0\n",
            "Середня ціна: 13.1\n",
            "Медіанна ціна: 11.0\n"
          ]
        }
      ]
    },
    {
      "cell_type": "code",
      "source": [
        "filter_row = df.loc[df[\"price\"] == 0]\n",
        "print(filter_row)"
      ],
      "metadata": {
        "colab": {
          "base_uri": "https://localhost:8080/"
        },
        "id": "vIPbJykMg6e_",
        "outputId": "95918a46-133c-4449-cb61-28dea254e3d2"
      },
      "execution_count": 13,
      "outputs": [
        {
          "output_type": "stream",
          "name": "stdout",
          "text": [
            "                                                  name  \\\n",
            "42          Cabin Fever (Diary of a Wimpy Kid, Book 6)   \n",
            "71             Diary of a Wimpy Kid: Hard Luck, Book 8   \n",
            "116                        Frozen (Little Golden Book)   \n",
            "193                               JOURNEY TO THE ICE P   \n",
            "219                                  Little Blue Truck   \n",
            "358              The Constitution of the United States   \n",
            "381                                        The Getaway   \n",
            "461  The Short Second Life of Bree Tanner: An Eclip...   \n",
            "505                              To Kill a Mockingbird   \n",
            "506                              To Kill a Mockingbird   \n",
            "507                              To Kill a Mockingbird   \n",
            "508                              To Kill a Mockingbird   \n",
            "\n",
            "                               author  user_rating  reviews  price  year  \\\n",
            "42                        Jeff Kinney          4.8     4505      0  2011   \n",
            "71                        Jeff Kinney          4.8     6812      0  2013   \n",
            "116                         RH Disney          4.7     3642      0  2014   \n",
            "193                         RH Disney          4.6      978      0  2014   \n",
            "219                    Alice Schertle          4.9     1884      0  2014   \n",
            "358  Delegates of the Constitutional          4.8     2774      0  2016   \n",
            "381                       Jeff Kinney          4.8     5836      0  2017   \n",
            "461                   Stephenie Meyer          4.6     2122      0  2010   \n",
            "505                        Harper Lee          4.8    26234      0  2013   \n",
            "506                        Harper Lee          4.8    26234      0  2014   \n",
            "507                        Harper Lee          4.8    26234      0  2015   \n",
            "508                        Harper Lee          4.8    26234      0  2016   \n",
            "\n",
            "           genre  \n",
            "42       Fiction  \n",
            "71       Fiction  \n",
            "116      Fiction  \n",
            "193      Fiction  \n",
            "219      Fiction  \n",
            "358  Non Fiction  \n",
            "381      Fiction  \n",
            "461      Fiction  \n",
            "505      Fiction  \n",
            "506      Fiction  \n",
            "507      Fiction  \n",
            "508      Fiction  \n"
          ]
        }
      ]
    },
    {
      "cell_type": "markdown",
      "source": [
        "Відповідь: Максимальна ціна?\n",
        "Відповідь: Мінімальна ціна?\n",
        "Відповідь: Середня ціна?\n",
        "Відповідь: Медіанна ціна?\n",
        "\n",
        "Максимальна ціна: 105\n",
        "Мінімальна ціна: 0\n",
        "Середня ціна: 13.1\n",
        "Медіанна ціна: 11.0\n"
      ],
      "metadata": {
        "id": "9nfp4F77hnmV"
      }
    },
    {
      "cell_type": "markdown",
      "source": [
        "Відповідь: Який рейтинг у датасеті найвищий? Відповідь:"
      ],
      "metadata": {
        "id": "StFPwaDXh3v_"
      }
    },
    {
      "cell_type": "code",
      "source": [
        "# Знайти найвищий рейтинг у датасеті\n",
        "max_rating = df['user_rating'].max()\n",
        "\n",
        "# Вивести результат\n",
        "print(\"Найвищий рейтинг у датасеті:\", max_rating)"
      ],
      "metadata": {
        "colab": {
          "base_uri": "https://localhost:8080/"
        },
        "id": "1CQbzV3Hh9zg",
        "outputId": "c66c75fc-e9a4-4225-e85a-dce1900f1a2f"
      },
      "execution_count": 14,
      "outputs": [
        {
          "output_type": "stream",
          "name": "stdout",
          "text": [
            "Найвищий рейтинг у датасеті: 4.9\n"
          ]
        }
      ]
    },
    {
      "cell_type": "markdown",
      "source": [
        "Відповідь: Який рейтинг у датасеті найвищий? Відповідь: 4.9"
      ],
      "metadata": {
        "id": "6Sh9PtSIiP2R"
      }
    },
    {
      "cell_type": "markdown",
      "source": [
        "Відповідь: Скільки книг мають такий рейтинг? Відповідь:"
      ],
      "metadata": {
        "id": "eYyOZi7niR6Z"
      }
    },
    {
      "cell_type": "code",
      "source": [
        "filter_row = df.loc[df[\"user_rating\"] == df['user_rating'].max()]\n",
        "print(len(filter_row))"
      ],
      "metadata": {
        "colab": {
          "base_uri": "https://localhost:8080/"
        },
        "id": "meFmsz2diUei",
        "outputId": "154d6b22-baf3-48e3-ac94-94c3cd9f1345"
      },
      "execution_count": 16,
      "outputs": [
        {
          "output_type": "stream",
          "name": "stdout",
          "text": [
            "52\n"
          ]
        }
      ]
    },
    {
      "cell_type": "markdown",
      "source": [
        "Відповідь: Скільки книг мають такий рейтинг? Відповідь: 52"
      ],
      "metadata": {
        "id": "TYs5EenoijKr"
      }
    },
    {
      "cell_type": "markdown",
      "source": [
        "Відповідь: Яка книга має найбільше відгуків? Відповідь:"
      ],
      "metadata": {
        "id": "JzuVd6T8ik2r"
      }
    },
    {
      "cell_type": "code",
      "source": [
        "# Знайти найбільшу кількість відгуків у датасеті\n",
        "max_reviews = df['reviews'].max()\n",
        "\n",
        "# Вивести результат\n",
        "print(\"Найбільша кількість відгуків у датасеті:\", max_reviews)\n",
        "\n",
        "filter_row = df.loc[df[\"reviews\"] == df['reviews'].max()]\n",
        "print(filter_row[\"name\"])"
      ],
      "metadata": {
        "colab": {
          "base_uri": "https://localhost:8080/"
        },
        "id": "3Y9cQ0boinbz",
        "outputId": "39c5fba6-d2a0-45ff-f938-a3db4fd3a802"
      },
      "execution_count": 19,
      "outputs": [
        {
          "output_type": "stream",
          "name": "stdout",
          "text": [
            "Найбільша кількість відгуків у датасеті: 87841\n",
            "534    Where the Crawdads Sing\n",
            "Name: name, dtype: object\n"
          ]
        }
      ]
    },
    {
      "cell_type": "markdown",
      "source": [
        "Відповідь: Яка книга має найбільше відгуків? Відповідь: Where the Crawdads Sing"
      ],
      "metadata": {
        "id": "kj5CtN7cjdWi"
      }
    },
    {
      "cell_type": "markdown",
      "source": [
        "Відповідь: З тих книг, що потрапили до Топ-50 у 2015 році, яка книга найдорожча (можна використати проміжний датафрейм)? Відповідь:"
      ],
      "metadata": {
        "id": "dqKGaUxpjju6"
      }
    },
    {
      "cell_type": "code",
      "source": [
        "# Відфільтрувати датафрейм за роком 2015\n",
        "df_2015 = df[df['year'] == 2015]\n",
        "\n",
        "# Відсортувати датасет за спаданням значень у колонці 'user_rating' і відібрати перші 50 рядків\n",
        "top_50_ratings = df_2015.sort_values(by='user_rating', ascending=False).head(50)\n",
        "\n",
        "\n",
        "# Знайти найдорожчу книгу серед тих, що потрапили до Топ-50 у 2015 році\n",
        "max_price_2015_1 = top_50_ratings['price'].max()\n",
        "max_price_2015 = df_2015[df_2015['user_rating'] <= 50]['price'].max()\n",
        "\n",
        "# Вивести результат\n",
        "print(\"Найдорожча книга серед тих, що потрапили до Топ-50 у 2015 році:\", max_price_2015)\n",
        "print(\"Найдорожча книга серед тих, що потрапили до Топ-50 у 2015 році (2):\", max_price_2015_1)\n",
        "\n",
        "df_max_price= df_2015.loc[df_2015[\"price\"] == max_price_2015]\n",
        "print(df_max_price['name'])"
      ],
      "metadata": {
        "colab": {
          "base_uri": "https://localhost:8080/"
        },
        "id": "8VC633e5jnTy",
        "outputId": "6b689c00-cb86-498b-c4a0-c8dfcd8c56b3"
      },
      "execution_count": 23,
      "outputs": [
        {
          "output_type": "stream",
          "name": "stdout",
          "text": [
            "Найдорожча книга серед тих, що потрапили до Топ-50 у 2015 році: 46\n",
            "Найдорожча книга серед тих, що потрапили до Топ-50 у 2015 році (2): 46\n",
            "277    Publication Manual of the American Psychologic...\n",
            "Name: name, dtype: object\n"
          ]
        }
      ]
    },
    {
      "cell_type": "markdown",
      "source": [
        "Відповідь: З тих книг, що потрапили до Топ-50 у 2015 році, яка книга найдорожча (можна використати проміжний датафрейм)? Відповідь: Publication Manual of the American Psychologic..."
      ],
      "metadata": {
        "id": "ZQW0ntzVmWzE"
      }
    },
    {
      "cell_type": "markdown",
      "source": [
        "Відповідь: Скільки книг жанру Fiction потрапили до Топ-50 у 2010 році (використовуйте &)? Відповідь:"
      ],
      "metadata": {
        "id": "duyeCuonmhYO"
      }
    },
    {
      "cell_type": "code",
      "source": [
        "# Відфільтрувати датафрейм за умовами \"рік\" рівний 2010 і \"жанр\" рівний \"Fiction\"\n",
        "fiction_2010_top_50 = df[(df['year'] == 2010) & (df['genre'] == 'Fiction') & (df['user_rating'] <= 50)] #\n",
        "#fiction_2010_top_50 = fiction_2010.sort_values(by='user_rating', ascending=False).head(50)\n",
        "\n",
        "\n",
        "# Знайти кількість книг, що задовольняють умові\n",
        "num_fiction_books_2010_top_50 = fiction_2010_top_50.shape[0]\n",
        "\n",
        "# Вивести результат\n",
        "print(\"Кількість книг жанру Fiction, які потрапили до Топ-50 у 2010 році:\", num_fiction_books_2010_top_50)\n"
      ],
      "metadata": {
        "colab": {
          "base_uri": "https://localhost:8080/"
        },
        "id": "ua6ruDDmmmle",
        "outputId": "4f8f9313-e6a8-4c10-a3ff-ffb049746f4a"
      },
      "execution_count": 28,
      "outputs": [
        {
          "output_type": "stream",
          "name": "stdout",
          "text": [
            "Кількість книг жанру Fiction, які потрапили до Топ-50 у 2010 році: 20\n"
          ]
        }
      ]
    },
    {
      "cell_type": "markdown",
      "source": [
        "Відповідь: Скільки книг жанру Fiction потрапили до Топ-50 у 2010 році (використовуйте &)? Відповідь: 20"
      ],
      "metadata": {
        "id": "1lKVwymcnFJJ"
      }
    },
    {
      "cell_type": "markdown",
      "source": [
        "Відповідь: Скільки книг з рейтингом 4.9 потрапило до рейтингу у 2010 та 2011 роках (використовуйте | або функцію isin)? Відповідь:"
      ],
      "metadata": {
        "id": "kqYzwOmgnINR"
      }
    },
    {
      "cell_type": "code",
      "source": [
        "# Відфільтрувати датафрейм за умовами \"рік\" рівний 2010 або 2011 і \"рейтинг\" рівний 4.9\n",
        "books_4_9_2010_2011 = df[(df['year'].isin([2010, 2011])) & (df['user_rating'] == 4.9)]\n",
        "\n",
        "# Знайти кількість книг, що задовольняють умові\n",
        "num_books_4_9_2010_2011 = books_4_9_2010_2011.shape[0]\n",
        "\n",
        "# Вивести результат\n",
        "print(\"Кількість книг з рейтингом 4.9, які потрапили до Топ-50 у 2010 або 2011 роках:\", num_books_4_9_2010_2011)\n"
      ],
      "metadata": {
        "colab": {
          "base_uri": "https://localhost:8080/"
        },
        "id": "lyw0YFzaoFBJ",
        "outputId": "7931a156-e2b2-4b55-f029-03c9855220b4"
      },
      "execution_count": 29,
      "outputs": [
        {
          "output_type": "stream",
          "name": "stdout",
          "text": [
            "Кількість книг з рейтингом 4.9, які потрапили до Топ-50 у 2010 або 2011 роках: 1\n"
          ]
        }
      ]
    },
    {
      "cell_type": "markdown",
      "source": [
        "Відповідь: Скільки книг з рейтингом 4.9 потрапило до рейтингу у 2010 та 2011 роках (використовуйте | або функцію isin)? Відповідь: 1"
      ],
      "metadata": {
        "id": "0EmgfzCaoc3i"
      }
    },
    {
      "cell_type": "markdown",
      "source": [
        "І насамкінець, давайте відсортуємо за зростанням ціни всі книги, які потрапили до рейтингу в 2015 році і коштують дешевше за 8 доларів (використовуйте функцію sort_values)."
      ],
      "metadata": {
        "id": "BLpt_VBCodnB"
      }
    },
    {
      "cell_type": "code",
      "source": [
        "# Відфільтрувати датафрейм за умовами \"рік\" рівний 2015 і \"ціна\" менше 8\n",
        "books_2015_under_8 = df[(df['year'] == 2015) & (df['price'] < 8)]\n",
        "\n",
        "# Відсортувати за зростанням ціни\n",
        "sorted_books_2015_under_8 = books_2015_under_8.sort_values(by='price')\n",
        "\n",
        "# Виведення відсортованого результату\n",
        "print(sorted_books_2015_under_8)\n"
      ],
      "metadata": {
        "colab": {
          "base_uri": "https://localhost:8080/"
        },
        "id": "SrSL14rCom3z",
        "outputId": "cbe7fdac-41c4-4fe6-c61f-08cbd79a1807"
      },
      "execution_count": 30,
      "outputs": [
        {
          "output_type": "stream",
          "name": "stdout",
          "text": [
            "                                                  name              author  \\\n",
            "507                              To Kill a Mockingbird          Harper Lee   \n",
            "210                      Laugh-Out-Loud Jokes for Kids         Rob Elliott   \n",
            "206                         Knock-Knock Jokes for Kids         Rob Elliott   \n",
            "111                                    First 100 Words        Roger Priddy   \n",
            "123                               Giraffes Can't Dance       Giles Andreae   \n",
            "54   Creative Haven Creative Cats Coloring Book (Ad...     Marjorie Sarnat   \n",
            "63                      Dear Zoo: A Lift-the-Flap Book        Rod Campbell   \n",
            "89   Dover Creative Haven Art Nouveau Animal Design...         Marty Noble   \n",
            "478                        The Very Hungry Caterpillar          Eric Carle   \n",
            "201  Killing Reagan: The Violent Assault That Chang...       Bill O'Reilly   \n",
            "28                        Baby Touch and Feel: Animals                  DK   \n",
            "224                                   Love You Forever       Robert Munsch   \n",
            "55   Creative Haven Owls Coloring Book (Adult Color...     Marjorie Sarnat   \n",
            "17      Adult Coloring Book: Stress Relieving Patterns  Blue Star Coloring   \n",
            "376  The Four Agreements: A Practical Guide to Pers...     Don Miguel Ruiz   \n",
            "16   Adult Coloring Book: Stress Relieving Animal D...  Blue Star Coloring   \n",
            "253              Old School (Diary of a Wimpy Kid #10)         Jeff Kinney   \n",
            "\n",
            "     user_rating  reviews  price  year        genre  \n",
            "507          4.8    26234      0  2015      Fiction  \n",
            "210          4.6     6990      4  2015  Non Fiction  \n",
            "206          4.5     3673      4  2015  Non Fiction  \n",
            "111          4.7    17323      4  2015  Non Fiction  \n",
            "123          4.8    14038      4  2015      Fiction  \n",
            "54           4.8     4022      4  2015  Non Fiction  \n",
            "63           4.8    10922      5  2015      Fiction  \n",
            "89           4.6     2134      5  2015  Non Fiction  \n",
            "478          4.9    19546      5  2015      Fiction  \n",
            "201          4.6     5235      5  2015  Non Fiction  \n",
            "28           4.6     5360      5  2015  Non Fiction  \n",
            "224          4.8    18613      5  2015      Fiction  \n",
            "55           4.8     3871      5  2015  Non Fiction  \n",
            "17           4.4     2951      6  2015  Non Fiction  \n",
            "376          4.7    23308      6  2015  Non Fiction  \n",
            "16           4.6     2925      6  2015  Non Fiction  \n",
            "253          4.8     6169      7  2015      Fiction  \n"
          ]
        }
      ]
    },
    {
      "cell_type": "markdown",
      "source": [
        "Відповідь: Яка книга остання у відсортованому списку? Відповідь:"
      ],
      "metadata": {
        "id": "tGpNaZEOo889"
      }
    },
    {
      "cell_type": "code",
      "source": [
        "print(sorted_books_2015_under_8.iloc[len(sorted_books_2015_under_8)-1]['name'])"
      ],
      "metadata": {
        "colab": {
          "base_uri": "https://localhost:8080/"
        },
        "id": "hzaWmbZLo9id",
        "outputId": "66e037ed-f48b-49c2-ec9a-39aeda503e9a"
      },
      "execution_count": 34,
      "outputs": [
        {
          "output_type": "stream",
          "name": "stdout",
          "text": [
            "Old School (Diary of a Wimpy Kid #10)\n"
          ]
        }
      ]
    },
    {
      "cell_type": "markdown",
      "source": [
        "Відповідь: Яка книга остання у відсортованому списку? Відповідь: Old School (Diary of a Wimpy Kid #10)"
      ],
      "metadata": {
        "id": "QHKzxKNspZ-I"
      }
    },
    {
      "cell_type": "markdown",
      "source": [
        "Для початку давайте подивимося на максимальну та мінімальну ціни для кожного з жанрів (використовуйте функції groupby та agg, для підрахунку мінімальних та максимальних значень використовуйте max та min). Не беріть усі стовпці, виберіть тільки потрібні вам"
      ],
      "metadata": {
        "id": "PIzLbYgSqzPZ"
      }
    },
    {
      "cell_type": "code",
      "source": [
        "# Групуємо дані за жанрами і обчислюємо максимальну та мінімальну ціну для кожного жанру\n",
        "genre_price_stats = df.groupby('genre')['price'].agg(['min', 'max'])\n",
        "\n",
        "# Виводимо результат\n",
        "print(genre_price_stats)\n"
      ],
      "metadata": {
        "colab": {
          "base_uri": "https://localhost:8080/"
        },
        "id": "3kyLlP7Hq3Ia",
        "outputId": "bb9f1742-1cda-461a-d138-7d7f22bc22ca"
      },
      "execution_count": 35,
      "outputs": [
        {
          "output_type": "stream",
          "name": "stdout",
          "text": [
            "             min  max\n",
            "genre                \n",
            "Fiction        0   82\n",
            "Non Fiction    0  105\n"
          ]
        }
      ]
    },
    {
      "cell_type": "markdown",
      "source": [
        "Відповідь: Максимальна ціна для жанру Fiction: Відповідь 82"
      ],
      "metadata": {
        "id": "l3aAMd6Bq7Wz"
      }
    },
    {
      "cell_type": "markdown",
      "source": [
        "Відповідь: Мінімальна ціна для жанру Fiction: Відповідь 0"
      ],
      "metadata": {
        "id": "p8DKsOOHq_lz"
      }
    },
    {
      "cell_type": "markdown",
      "source": [
        "Відповідь: Максимальна ціна для жанру Non Fiction: Відповідь 105"
      ],
      "metadata": {
        "id": "jy9uoT7IrD97"
      }
    },
    {
      "cell_type": "markdown",
      "source": [
        "Відповідь: Мінімальна ціна для жанру Non Fiction: Відповідь 0"
      ],
      "metadata": {
        "id": "e2mqDH35rHsj"
      }
    },
    {
      "cell_type": "markdown",
      "source": [
        "Тепер створіть новий датафрейм, який вміщатиме кількість книг для кожного з авторів (використовуйте функції groupby та agg, для підрахунку кількості використовуйте count). Не беріть усі стовпці, виберете тільки потрібні"
      ],
      "metadata": {
        "id": "DDLGs3PqrKiT"
      }
    },
    {
      "cell_type": "code",
      "source": [
        "# Групуємо дані за авторами і обчислюємо кількість книг для кожного автора\n",
        "author_book_count = df.groupby('author')['name'].count()\n",
        "\n",
        "# Перетворюємо серію з результатами в датафрейм\n",
        "author_book_count_df = author_book_count.reset_index()\n",
        "\n",
        "# Перейменовуємо стовпець з кількістю книг\n",
        "author_book_count_df = author_book_count_df.rename(columns={'name': 'book_count'})\n",
        "\n",
        "# Виводимо результат\n",
        "print(author_book_count_df)\n"
      ],
      "metadata": {
        "colab": {
          "base_uri": "https://localhost:8080/"
        },
        "id": "ZjQSdZiTrO-m",
        "outputId": "87647355-f5d5-46b5-b8a8-f6bd2b73e263"
      },
      "execution_count": 37,
      "outputs": [
        {
          "output_type": "stream",
          "name": "stdout",
          "text": [
            "                         author  book_count\n",
            "0              Abraham Verghese           2\n",
            "1                Adam Gasiewski           1\n",
            "2                 Adam Mansbach           1\n",
            "3                     Adir Levy           1\n",
            "4    Admiral William H. McRaven           1\n",
            "..                          ...         ...\n",
            "243             Walter Isaacson           3\n",
            "244               William Davis           2\n",
            "245            William P. Young           2\n",
            "246            Wizards RPG Team           3\n",
            "247                Zhi Gang Sha           2\n",
            "\n",
            "[248 rows x 2 columns]\n"
          ]
        }
      ]
    },
    {
      "cell_type": "markdown",
      "source": [
        "Відповідь: Якої розмірності вийшла таблиця? Відповідь:"
      ],
      "metadata": {
        "id": "Fh0iV6dvr2Gf"
      }
    },
    {
      "cell_type": "code",
      "source": [
        "author_book_count_df.shape"
      ],
      "metadata": {
        "colab": {
          "base_uri": "https://localhost:8080/"
        },
        "id": "E18U876Jr2pQ",
        "outputId": "f94aea9a-6de4-4c40-e668-12c3a35eae27"
      },
      "execution_count": 38,
      "outputs": [
        {
          "output_type": "execute_result",
          "data": {
            "text/plain": [
              "(248, 2)"
            ]
          },
          "metadata": {},
          "execution_count": 38
        }
      ]
    },
    {
      "cell_type": "markdown",
      "source": [
        "Відповідь: Якої розмірності вийшла таблиця? Відповідь: 248 x 2"
      ],
      "metadata": {
        "id": "dkgMuac8r57Q"
      }
    },
    {
      "cell_type": "markdown",
      "source": [
        "Відповідь: Який автор має найбільше книг? Відповідь:"
      ],
      "metadata": {
        "id": "5Qn1r9LvsAhx"
      }
    },
    {
      "cell_type": "code",
      "source": [
        "# Знаходимо рядок з максимальною кількістю книг\n",
        "author_with_most_books = author_book_count_df.loc[author_book_count_df['book_count'].idxmax()]\n",
        "\n",
        "# Виводимо результат\n",
        "print(\"Автор з найбільшою кількістю книг:\", author_with_most_books['author'])\n"
      ],
      "metadata": {
        "colab": {
          "base_uri": "https://localhost:8080/"
        },
        "id": "8nMdzhX7sDXS",
        "outputId": "15411831-879b-4555-baaa-132bc454910b"
      },
      "execution_count": 39,
      "outputs": [
        {
          "output_type": "stream",
          "name": "stdout",
          "text": [
            "Автор з найбільшою кількістю книг: Jeff Kinney\n"
          ]
        }
      ]
    },
    {
      "cell_type": "markdown",
      "source": [
        "Відповідь: Який автор має найбільше книг? Відповідь: Jeff Kinney"
      ],
      "metadata": {
        "id": "ueuZeUf2sYGk"
      }
    },
    {
      "cell_type": "markdown",
      "source": [
        "Відповідь: Скільки книг цього автора? Відповідь:"
      ],
      "metadata": {
        "id": "jkumFmOusb7W"
      }
    },
    {
      "cell_type": "code",
      "source": [
        "author_with_most_books ['book_count']"
      ],
      "metadata": {
        "colab": {
          "base_uri": "https://localhost:8080/"
        },
        "id": "5LTpbaH2sfDG",
        "outputId": "4c340b3d-03bd-4c0d-d2be-994e4c360e52"
      },
      "execution_count": 40,
      "outputs": [
        {
          "output_type": "execute_result",
          "data": {
            "text/plain": [
              "12"
            ]
          },
          "metadata": {},
          "execution_count": 40
        }
      ]
    },
    {
      "cell_type": "markdown",
      "source": [
        "Відповідь: Скільки книг цього автора? Відповідь: 12"
      ],
      "metadata": {
        "id": "QoRewM1Wsn49"
      }
    },
    {
      "cell_type": "markdown",
      "source": [
        "Тепер створіть другий датафрейм, який буде вміщати середній рейтинг для кожного автора (використовуйте функції groupby та agg, для підрахунку середнього значення використовуйте mean). Не беріть усі стовпці, виберете тільки потрібні"
      ],
      "metadata": {
        "id": "9I9Duewdso9N"
      }
    },
    {
      "cell_type": "code",
      "source": [
        "# Групуємо дані за авторами і обчислюємо середній рейтинг для кожного автора\n",
        "author_avg_rating = df.groupby('author')['user_rating'].mean()\n",
        "\n",
        "# Перетворюємо серію з результатами в датафрейм\n",
        "author_avg_rating_df = author_avg_rating.reset_index()\n",
        "\n",
        "# Виводимо результат\n",
        "print(author_avg_rating_df)\n"
      ],
      "metadata": {
        "colab": {
          "base_uri": "https://localhost:8080/"
        },
        "id": "p6SsIAFkstgd",
        "outputId": "523700ef-163d-41e1-e540-ffd973a3d95e"
      },
      "execution_count": 41,
      "outputs": [
        {
          "output_type": "stream",
          "name": "stdout",
          "text": [
            "                         author  user_rating\n",
            "0              Abraham Verghese     4.600000\n",
            "1                Adam Gasiewski     4.400000\n",
            "2                 Adam Mansbach     4.800000\n",
            "3                     Adir Levy     4.800000\n",
            "4    Admiral William H. McRaven     4.700000\n",
            "..                          ...          ...\n",
            "243             Walter Isaacson     4.566667\n",
            "244               William Davis     4.400000\n",
            "245            William P. Young     4.600000\n",
            "246            Wizards RPG Team     4.800000\n",
            "247                Zhi Gang Sha     4.600000\n",
            "\n",
            "[248 rows x 2 columns]\n"
          ]
        }
      ]
    },
    {
      "cell_type": "markdown",
      "source": [
        "Відповідь: У якого автора середній рейтинг мінімальний? Відповідь:"
      ],
      "metadata": {
        "id": "lUzulGo0tADv"
      }
    },
    {
      "cell_type": "code",
      "source": [
        "# Знаходимо рядок з мінімальним середнім рейтингом\n",
        "author_with_min_avg_rating = author_avg_rating_df.loc[author_avg_rating_df['user_rating'].idxmin()]\n",
        "\n",
        "# Виводимо результат\n",
        "print(\"Автор з мінімальним середнім рейтингом:\", author_with_min_avg_rating['author'])\n"
      ],
      "metadata": {
        "colab": {
          "base_uri": "https://localhost:8080/"
        },
        "id": "JObpb1R3tDTf",
        "outputId": "04f055d3-9558-483d-97b9-ed3a79c750d6"
      },
      "execution_count": 42,
      "outputs": [
        {
          "output_type": "stream",
          "name": "stdout",
          "text": [
            "Автор з мінімальним середнім рейтингом: Donna Tartt\n"
          ]
        }
      ]
    },
    {
      "cell_type": "markdown",
      "source": [
        "Відповідь: У якого автора середній рейтинг мінімальний? Відповідь: Donna Tartt"
      ],
      "metadata": {
        "id": "asaCZK4FtN4B"
      }
    },
    {
      "cell_type": "markdown",
      "source": [
        "Відповідь: Який у цього автора середній рейтинг? Відповідь:"
      ],
      "metadata": {
        "id": "FzFWFq6ktP6q"
      }
    },
    {
      "cell_type": "code",
      "source": [
        "author_with_min_avg_rating ['user_rating']"
      ],
      "metadata": {
        "colab": {
          "base_uri": "https://localhost:8080/"
        },
        "id": "ssOS2DWqtS4a",
        "outputId": "2b5c25f0-fa44-46cb-b97f-52033332e3e3"
      },
      "execution_count": 43,
      "outputs": [
        {
          "output_type": "execute_result",
          "data": {
            "text/plain": [
              "3.9"
            ]
          },
          "metadata": {},
          "execution_count": 43
        }
      ]
    },
    {
      "cell_type": "markdown",
      "source": [
        "Відповідь: Який у цього автора середній рейтинг? Відповідь: 3.9\n"
      ],
      "metadata": {
        "id": "UXdgMafEtcCy"
      }
    },
    {
      "cell_type": "markdown",
      "source": [
        "З'єднайте останні два датафрейми так, щоб для кожного автора було видно кількість книг та середній рейтинг (Використовуйте функцію concat з параметром axis=1). Збережіть результат у змінну"
      ],
      "metadata": {
        "id": "ozrcGF65td8T"
      }
    },
    {
      "cell_type": "code",
      "source": [
        "# З'єднуємо два датафрейми за стовпцями\n",
        "merged_df = pd.concat([author_book_count_df.set_index('author'), author_avg_rating_df.set_index('author')], axis=1)\n",
        "\n",
        "# Перейменовуємо стовпці для ясності\n",
        "merged_df = merged_df.rename(columns={'book_count': 'Кількість книг', 'user_rating': 'Середній рейтинг'})\n",
        "\n",
        "# Виведемо результат\n",
        "print(merged_df)\n"
      ],
      "metadata": {
        "colab": {
          "base_uri": "https://localhost:8080/"
        },
        "id": "CJALOH8cuAFP",
        "outputId": "cba6e079-5434-4383-cd3d-aedf723a8204"
      },
      "execution_count": 44,
      "outputs": [
        {
          "output_type": "stream",
          "name": "stdout",
          "text": [
            "                            Кількість книг  Середній рейтинг\n",
            "author                                                      \n",
            "Abraham Verghese                         2          4.600000\n",
            "Adam Gasiewski                           1          4.400000\n",
            "Adam Mansbach                            1          4.800000\n",
            "Adir Levy                                1          4.800000\n",
            "Admiral William H. McRaven               1          4.700000\n",
            "...                                    ...               ...\n",
            "Walter Isaacson                          3          4.566667\n",
            "William Davis                            2          4.400000\n",
            "William P. Young                         2          4.600000\n",
            "Wizards RPG Team                         3          4.800000\n",
            "Zhi Gang Sha                             2          4.600000\n",
            "\n",
            "[248 rows x 2 columns]\n"
          ]
        }
      ]
    },
    {
      "cell_type": "markdown",
      "source": [
        "Відсортуйте датафрейм за зростаючою кількістю книг та зростаючим рейтингом (використовуйте функцію sort_values)"
      ],
      "metadata": {
        "id": "oO4kd6HeuWZZ"
      }
    },
    {
      "cell_type": "code",
      "source": [
        "# Відсортуйте датафрейм за зростаючою кількістю книг та зростаючим рейтингом\n",
        "sorted_df = merged_df.sort_values(by=['Кількість книг', 'Середній рейтинг'], ascending=[True, True])\n",
        "\n",
        "# Виведіть відсортований датафрейм\n",
        "print(sorted_df)\n"
      ],
      "metadata": {
        "colab": {
          "base_uri": "https://localhost:8080/"
        },
        "id": "tMozYkkEuXFx",
        "outputId": "8d131c96-250d-4bc7-95f9-c910be2c0ff3"
      },
      "execution_count": 45,
      "outputs": [
        {
          "output_type": "stream",
          "name": "stdout",
          "text": [
            "                                    Кількість книг  Середній рейтинг\n",
            "author                                                              \n",
            "Muriel Barbery                                   1          4.000000\n",
            "Chris Cleave                                     1          4.100000\n",
            "Ian K. Smith M.D.                                1          4.100000\n",
            "Pierre Dukan                                     1          4.100000\n",
            "Elizabeth Strout                                 1          4.200000\n",
            "...                                            ...               ...\n",
            "American Psychological Association              10          4.500000\n",
            "Suzanne Collins                                 11          4.663636\n",
            "Gary Chapman                                    11          4.736364\n",
            "Rick Riordan                                    11          4.772727\n",
            "Jeff Kinney                                     12          4.800000\n",
            "\n",
            "[248 rows x 2 columns]\n"
          ]
        }
      ]
    },
    {
      "cell_type": "markdown",
      "source": [
        "Відповідь: Який автор перший у списку?"
      ],
      "metadata": {
        "id": "tfz9evL6uhUL"
      }
    },
    {
      "cell_type": "code",
      "source": [
        "# Отримати першого автора з відсортованого списку\n",
        "first_author = sorted_df.index[0]\n",
        "\n",
        "# Вивести першого автора\n",
        "print(\"Перший автор у списку:\", first_author)\n"
      ],
      "metadata": {
        "colab": {
          "base_uri": "https://localhost:8080/"
        },
        "id": "soBS6gjrumAy",
        "outputId": "e4ed185e-d755-439c-94e6-415410bc9e30"
      },
      "execution_count": 46,
      "outputs": [
        {
          "output_type": "stream",
          "name": "stdout",
          "text": [
            "Перший автор у списку: Muriel Barbery\n"
          ]
        }
      ]
    },
    {
      "cell_type": "markdown",
      "source": [
        "Відповідь: Який автор перший у списку? Muriel Barbery"
      ],
      "metadata": {
        "id": "R7Pf7Cu3uuvD"
      }
    },
    {
      "cell_type": "code",
      "source": [
        "%matplotlib inline\n"
      ],
      "metadata": {
        "id": "j6zp57UqvSBP"
      },
      "execution_count": 47,
      "outputs": []
    },
    {
      "cell_type": "code",
      "source": [
        "# Встановлення нового імені для першої колонки\n",
        "sorted_df.columns.values[0] = 'Кількість книг'\n",
        "for _ in sorted_df.columns:\n",
        "  print(_)\n",
        "\n",
        "# for _ in sorted_df.rows:\n",
        "#   print(_)\n",
        "\n",
        "# print(sorted_df)\n",
        "\n",
        "short_df=sorted_df.head(5)\n"
      ],
      "metadata": {
        "colab": {
          "base_uri": "https://localhost:8080/"
        },
        "id": "eFJ42zlVxbBd",
        "outputId": "5a689d68-8d82-446d-8a96-87940d7d49ee"
      },
      "execution_count": 64,
      "outputs": [
        {
          "output_type": "stream",
          "name": "stdout",
          "text": [
            "Кількість книг\n",
            "Середній рейтинг\n"
          ]
        }
      ]
    },
    {
      "cell_type": "code",
      "source": [
        "import matplotlib.pyplot as plt\n",
        "import seaborn as sns\n",
        "\n",
        "# 1. Стовпчикова діаграма (Bar chart)\n",
        "plt.figure(figsize=(8, 6))\n",
        "sns.barplot(x=short_df.index, y=short_df['Кількість книг'], palette='viridis')\n",
        "plt.title('Розподіл даних за колонкою 1')\n",
        "plt.xlabel('Категорії')\n",
        "plt.ylabel('Значення')\n",
        "plt.xticks(rotation=45)\n",
        "plt.show()\n",
        "\n",
        "# 2. Лінійний графік (Line plot)\n",
        "plt.figure(figsize=(8, 6))\n",
        "sns.lineplot(data=short_df, x='author', y='Кількість книг', marker='o', color='skyblue')\n",
        "plt.title('Зміна значення в часі')\n",
        "plt.xlabel('Час')\n",
        "plt.ylabel('Значення')\n",
        "plt.xticks(rotation=45)\n",
        "plt.grid(True)\n",
        "plt.show()\n",
        "\n",
        "# 3. Кругова діаграма (Pie chart)\n",
        "plt.figure(figsize=(8, 6))\n",
        "short_df.index.value_counts().plot(kind='pie', autopct='%1.1f%%', colors=sns.color_palette('Set3'))\n",
        "plt.title('Відносний розподіл категорій')\n",
        "plt.ylabel('')\n",
        "plt.show()\n",
        "\n",
        "# 4. Ящик з вусами (Box plot)\n",
        "plt.figure(figsize=(8, 6))\n",
        "sns.boxplot(data=short_df, x='author', y='Кількість книг', palette='pastel')\n",
        "plt.title('Розподіл даних за категоріями')\n",
        "plt.xlabel('Категорії')\n",
        "plt.ylabel('Значення')\n",
        "plt.xticks(rotation=45)\n",
        "plt.grid(True)\n",
        "plt.show()\n",
        "\n",
        "# 5. Точкова діаграма (Scatter plot)\n",
        "plt.figure(figsize=(8, 6))\n",
        "sns.scatterplot(data=short_df, x='author', y='Кількість книг', hue='Середній рейтинг', palette='Set1', s=100)\n",
        "plt.title('Залежність між двома змінними')\n",
        "plt.xlabel('Змінна 1')\n",
        "plt.ylabel('Змінна 2')\n",
        "plt.legend(title='Категорія')\n",
        "plt.grid(True)\n",
        "plt.show()\n"
      ],
      "metadata": {
        "colab": {
          "base_uri": "https://localhost:8080/",
          "height": 1000
        },
        "id": "XI6pJfvYvT5_",
        "outputId": "eab82b78-9bbd-463e-a9e9-794f22e2e9e2"
      },
      "execution_count": 68,
      "outputs": [
        {
          "output_type": "stream",
          "name": "stderr",
          "text": [
            "<ipython-input-68-7cf51baa8cc2>:6: FutureWarning: \n",
            "\n",
            "Passing `palette` without assigning `hue` is deprecated and will be removed in v0.14.0. Assign the `x` variable to `hue` and set `legend=False` for the same effect.\n",
            "\n",
            "  sns.barplot(x=short_df.index, y=short_df['Кількість книг'], palette='viridis')\n"
          ]
        },
        {
          "output_type": "display_data",
          "data": {
            "text/plain": [
              "<Figure size 800x600 with 1 Axes>"
            ],
            "image/png": "[encoded data removed]"
          },
          "metadata": {}
        },
        {
          "output_type": "display_data",
          "data": {
            "text/plain": [
              "<Figure size 800x600 with 1 Axes>"
            ],
            "image/png": "[encoded data removed]"
          },
          "metadata": {}
        },
        {
          "output_type": "display_data",
          "data": {
            "text/plain": [
              "<Figure size 800x600 with 1 Axes>"
            ],
            "image/png": "[encoded data removed]"
          },
          "metadata": {}
        },
        {
          "output_type": "stream",
          "name": "stderr",
          "text": [
            "<ipython-input-68-7cf51baa8cc2>:32: FutureWarning: \n",
            "\n",
            "Passing `palette` without assigning `hue` is deprecated and will be removed in v0.14.0. Assign the `x` variable to `hue` and set `legend=False` for the same effect.\n",
            "\n",
            "  sns.boxplot(data=short_df, x='author', y='Кількість книг', palette='pastel')\n"
          ]
        },
        {
          "output_type": "display_data",
          "data": {
            "text/plain": [
              "<Figure size 800x600 with 1 Axes>"
            ],
            "image/png": "[encoded data removed]"
          },
          "metadata": {}
        },
        {
          "output_type": "display_data",
          "data": {
            "text/plain": [
              "<Figure size 800x600 with 1 Axes>"
            ],
            "image/png": "[encoded data removed]"
          },
          "metadata": {}
        }
      ]
    }
  ]
}